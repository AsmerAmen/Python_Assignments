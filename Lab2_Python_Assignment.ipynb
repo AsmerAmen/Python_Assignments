{
 "cells": [
  {
   "cell_type": "markdown",
   "metadata": {},
   "source": [
    "# Lab 2: Python Assignment\n"
   ]
  },
  {
   "cell_type": "markdown",
   "metadata": {},
   "source": [
    "### Problem 1: \n",
    "Write a version of 'four_letter_words' function that takes a second argument, n, that is the word length we want to search for "
   ]
  },
  {
   "cell_type": "code",
   "execution_count": 9,
   "metadata": {
    "collapsed": false
   },
   "outputs": [
    {
     "name": "stdout",
     "output_type": "stream",
     "text": [
      "['Hello']\n",
      "['helwan', 'python', 'number']\n"
     ]
    }
   ],
   "source": [
    "def nLetter_words(message, n):\n",
    "    words = message.split()\n",
    "    nLetters = list(filter(lambda x : len(x) == n , words))\n",
    "    return nLetters\n",
    "print(nLetter_words(\"Hello to helwan engineering, python lab number two\", 5))\n",
    "print(nLetter_words(\"Hello to helwan engineering, python lab number two\", 6))"
   ]
  },
  {
   "cell_type": "markdown",
   "metadata": {},
   "source": [
    "### Problem 2:\n",
    "Write a program that calculate the factorial of a number"
   ]
  },
  {
   "cell_type": "code",
   "execution_count": 21,
   "metadata": {
    "collapsed": false
   },
   "outputs": [
    {
     "name": "stdout",
     "output_type": "stream",
     "text": [
      "720\n"
     ]
    }
   ],
   "source": [
    "def factorial(n):\n",
    "    if n == 1: \n",
    "        return 1\n",
    "    else:\n",
    "        return n * factorial(n-1)\n",
    "print(factorial(6))"
   ]
  },
  {
   "cell_type": "markdown",
   "metadata": {},
   "source": [
    "## Problem 3:\n",
    "Write a program that filters a list based on the fact that the number is prime or not"
   ]
  },
  {
   "cell_type": "code",
   "execution_count": 4,
   "metadata": {
    "collapsed": false
   },
   "outputs": [
    {
     "name": "stdout",
     "output_type": "stream",
     "text": [
      "Not prime:  [4, 6, 8, 9, 10, 12, 14, 15, 16, 18]\n",
      "Prime:  [1, 2, 3, 5, 7, 11, 13, 17, 19]\n"
     ]
    }
   ],
   "source": [
    "#List = [x for x in range(100)]\n",
    "#a=[]\n",
    "#for i in range (2,x)\n",
    "\n",
    "non=[]\n",
    "p=[]\n",
    "for n in range(1,20):\n",
    "    nonPrime = False\n",
    "    for i in range(2,n):\n",
    "        if (n % i) == 0:\n",
    "             nonPrime = True\n",
    "                \n",
    "    if nonPrime is True:\n",
    "        non.append(n)\n",
    "    if nonPrime is False:\n",
    "        p.append(n)\n",
    "        \n",
    "print(\"Not prime: \", non)\n",
    "print(\"Prime: \",p)"
   ]
  },
  {
   "cell_type": "code",
   "execution_count": null,
   "metadata": {
    "collapsed": false
   },
   "outputs": [],
   "source": []
  },
  {
   "cell_type": "markdown",
   "metadata": {},
   "source": [
    "### Problem 4:\n",
    "Write a program that filters the words that have one or more non alph. letters"
   ]
  },
  {
   "cell_type": "code",
   "execution_count": 3,
   "metadata": {
    "collapsed": false
   },
   "outputs": [
    {
     "name": "stdout",
     "output_type": "stream",
     "text": [
      "['2o', 'engine7Eering,', 'number2']\n"
     ]
    }
   ],
   "source": [
    "def wordsList(message):\n",
    "    words = message.split()\n",
    "#    any(str.isdigit(c) for c in words)\n",
    "    List = list(filter(lambda x : not x.isalpha() , words))\n",
    "    return List\n",
    "print(wordsList(\"Hello 2o helwan engine7Eering, python lab number2\"))"
   ]
  },
  {
   "cell_type": "markdown",
   "metadata": {},
   "source": [
    "### Problem 5:\n",
    "Implement tic-tac-toe  game for 2 players \n",
    "\n",
    "Hints :\n",
    "\n",
    "1: create a string that represents our game board\n",
    "\n",
    "2: use a dictionary to denote the status of each square, \"x\", \"o\", or empty, \"\"\n",
    "\n",
    "3: drive a function that prints the current state of the board.\n",
    "\n",
    "4: drivre afunction that asks for input from a player (we'll call them player 1 and 2).\n",
    "\n",
    "5: a main loop that organizes the game play.\n",
    " "
   ]
  },
  {
   "cell_type": "code",
   "execution_count": null,
   "metadata": {
    "collapsed": false
   },
   "outputs": [],
   "source": [
    "matrix = 9*[' ']\n",
    "turn = 0\n",
    "win = False\n",
    "\n",
    "def player1():\n",
    "    print(\"Player 1 turn:\")\n",
    "    place = int(input())\n",
    "    return place -1\n",
    "\n",
    "\n",
    "def player2():\n",
    "    print(\"Player 2 turn:\")\n",
    "    place = int(input())\n",
    "    return place -1\n",
    "    \n",
    "#def check():\n",
    "#    global matrix\n",
    "#    global win\n",
    "#    for x in range (0, 3) :\n",
    "#        y = x * 3\n",
    "#        if (matrix[y] == matrix[(y + 1)] and matrix[y] == matrix[(y + 2)]) :\n",
    "#            win = True\n",
    "#        if (matrix[x] == matrix[(x + 3)] and matrix[x] == matrix[(x + 6)]) :\n",
    "#            win = True\n",
    "#        if ((matrix[0] == matrix[4] and matrix[0] == matrix[8]) or \n",
    "#       (matrix[2] == matrix[4] and matrix[4] == matrix[6])) :\n",
    "#            win =  True\n",
    "            \n",
    "   \n",
    "    \n",
    "\n",
    "def printMatrix():\n",
    "    print( '\\n ----------- ')\n",
    "    print( '| ' + matrix[0] + ' | ' + matrix[1] + ' | ' + matrix[2] + ' |')\n",
    "    print( ' ----------- ')\n",
    "    print( '| ' + matrix[3] + ' | ' + matrix[4] + ' | ' + matrix[5] + ' |')\n",
    "    print( ' ----------- ')\n",
    "    print( '| ' + matrix[6] + ' | ' + matrix[7] + ' | ' + matrix[8] + ' |')\n",
    "    print( ' ----------- \\n')\n",
    "\n",
    "while win is False:\n",
    "    if (turn < 9) and (win is False):\n",
    "        turn += 1\n",
    "        Xplace = player1()\n",
    "\n",
    "        if matrix[Xplace] == ' ' :\n",
    "            matrix[Xplace] = 'X'\n",
    "        else:\n",
    "            print(\"Place already taken !\")\n",
    "            Xplace = player1()\n",
    "            matrix[Xplace] = 'X'\n",
    "    \n",
    "        printMatrix()\n",
    "        #check\n",
    "        for x in range (0, 3) :\n",
    "            y = x * 3\n",
    "            if (matrix[y] == matrix[(y + 1)] and matrix[y] == matrix[(y + 2)] and matrix[y] != ' ') :\n",
    "                win = True\n",
    "            if (matrix[x] == matrix[(x + 3)] and matrix[x] == matrix[(x + 6)] and matrix[x] != ' ') :\n",
    "                win = True\n",
    "            if ((matrix[0] == matrix[4] and matrix[0] == matrix[8] and matrix[0] != ' ') or \n",
    "           (matrix[2] == matrix[4] and matrix[4] == matrix[6] and matrix[2] != ' ')) :\n",
    "                win =  True\n",
    "        if win is True:\n",
    "            print(\"Winner: Player 1\")\n",
    "    \n",
    "    if (turn < 9) and (win is False):\n",
    "        turn += 1\n",
    "        Oplace = player2()\n",
    "   \n",
    "        if matrix[Oplace] == ' ' :\n",
    "            matrix[Oplace] = 'O'\n",
    "        else:\n",
    "            print(\"Place already taken !\")\n",
    "            Oplace = player2()\n",
    "            matrix[Oplace] = 'O'\n",
    "        \n",
    "        printMatrix()\n",
    "        #check\n",
    "        for x in range (0, 3) :\n",
    "            y = x * 3\n",
    "            if (matrix[y] == matrix[(y + 1)] and matrix[y] == matrix[(y + 2)] and matrix[y] != ' ') :\n",
    "                win = True\n",
    "            if (matrix[x] == matrix[(x + 3)] and matrix[x] == matrix[(x + 6)] and matrix[x] != ' ') :\n",
    "                win = True\n",
    "            if ((matrix[0] == matrix[4] and matrix[0] == matrix[8] and matrix[0] != ' ') or \n",
    "           (matrix[2] == matrix[4] and matrix[4] == matrix[6] and matrix[2] != ' ')) :\n",
    "                win =  True\n",
    "        if win is True:\n",
    "            print(\"Winner: Player 2\")\n",
    "\n"
   ]
  },
  {
   "cell_type": "code",
   "execution_count": 5,
   "metadata": {
    "collapsed": false,
    "scrolled": true
   },
   "outputs": [
    {
     "name": "stdout",
     "output_type": "stream",
     "text": [
      "True\n"
     ]
    }
   ],
   "source": [
    "print(win)"
   ]
  },
  {
   "cell_type": "code",
   "execution_count": null,
   "metadata": {
    "collapsed": true
   },
   "outputs": [],
   "source": []
  }
 ],
 "metadata": {
  "anaconda-cloud": {},
  "kernelspec": {
   "display_name": "Python [default]",
   "language": "python",
   "name": "python3"
  },
  "language_info": {
   "codemirror_mode": {
    "name": "ipython",
    "version": 3
   },
   "file_extension": ".py",
   "mimetype": "text/x-python",
   "name": "python",
   "nbconvert_exporter": "python",
   "pygments_lexer": "ipython3",
   "version": "3.5.2"
  }
 },
 "nbformat": 4,
 "nbformat_minor": 2
}
