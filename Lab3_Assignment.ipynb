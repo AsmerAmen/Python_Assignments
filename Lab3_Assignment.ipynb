{
 "cells": [
  {
   "cell_type": "code",
   "execution_count": null,
   "metadata": {
    "collapsed": true
   },
   "outputs": [],
   "source": [
    "from __future__ import print_function"
   ]
  },
  {
   "cell_type": "code",
   "execution_count": null,
   "metadata": {
    "collapsed": true
   },
   "outputs": [],
   "source": []
  },
  {
   "cell_type": "markdown",
   "metadata": {},
   "source": [
    "Q1: write a class to represent 2-d vectors.  Vectors have a direction and a magnitude. implement all vectors basic operations: add them, multiply by a scalar, cross product, dot product, return the magnitude."
   ]
  },
  {
   "cell_type": "markdown",
   "metadata": {},
   "source": [
    "Q2: write a simple shopping cart class -- this will hold items that you intend to purchase as well as the amount, etc.  And allow you to add / remove items, get a subtotal, etc.\n",
    "\n",
    "We'll use two classes: `Item` will be a single item and `ShoppingCart` will be the collection of items you wish to purchase."
   ]
  },
  {
   "cell_type": "markdown",
   "metadata": {},
   "source": [
    "Q3: Revisit the tic-tac-toe game you developed in the functions exercises but now write it as a class with methods to do each of the main steps.  "
   ]
  },
  {
   "cell_type": "code",
   "execution_count": 8,
   "metadata": {
    "collapsed": false
   },
   "outputs": [
    {
     "name": "stdout",
     "output_type": "stream",
     "text": [
      "Vector1 + Vector2 : 8.60232526704\n",
      "Vector1 * Vector2 : 13.416407865\n"
     ]
    }
   ],
   "source": [
    "###Question1:\n",
    "import numpy as np\n",
    "\n",
    "class vector():\n",
    "    Xdirection =0\n",
    "    Ydirection =0\n",
    "    direction = np.array([Xdirection, Ydirection])\n",
    "    magnitude = 0\n",
    "   \n",
    "\n",
    "    def __init__ (self, Xdirection=0, Ydirection=0):\n",
    "        self.Xdirection = Xdirection\n",
    "        self.Ydirection = Ydirection\n",
    "        self.direction= np.array([Xdirection, Ydirection])\n",
    "#       self.magnitude = getMagnitude(Xdirection,Ydirection)\n",
    "        \n",
    "    \n",
    "    def getMagnitude(self, Xdirection,Ydirection):\n",
    "            self.magnitude = (np.sqrt((Xdirection* Xdirection)+(Ydirection* Ydirection)))\n",
    "            return self.magnitude\n",
    "            \n",
    "        \n",
    "    def add(self,other):\n",
    "        Result = vector()\n",
    "        Result.direction = (self.direction) + (other.direction)\n",
    "        Result.magnitude = Result.getMagnitude(Result.direction[0],Result.direction[1] )\n",
    "        return Result.magnitude\n",
    "#        return (getMagnitude(Result.direction[0],Result.direction[1] ))\n",
    "    \n",
    "    def mul(self, other):\n",
    "        Result = vector()\n",
    "        Result.direction = np.multiply(self.direction, other.direction)\n",
    "        Result.magnitude = Result.getMagnitude(Result.direction[0],Result.direction[1] )\n",
    "        return Result.magnitude\n",
    "    \n",
    "    def dotProd(self, other):\n",
    "        Result = vector()\n",
    "        Result.direction = np.dot(self.direction, other.direction)\n",
    "        Result.magnitude = Result.getMagnitude(Result.direction[0],Result.direction[1] )\n",
    "        return Result.magnitude\n",
    "    \n",
    "    def crossProd(self, other):\n",
    "        Result = vector()\n",
    "        Result.direction = np.cross(self.direction, other.direction)\n",
    "        Result.magnitude = Result.getMagnitude(Result.direction[0],Result.direction[1] )\n",
    "        return Result.magnitude\n",
    "    \n",
    "    \n",
    "            \n",
    "vect1 = vector(2,3)\n",
    "vect2 = vector(3,4)\n",
    "print(\"Vector1 + Vector2 :\", vect1.add(vect2))\n",
    "print(\"Vector1 * Vector2 :\", vect1.mul(vect2))"
   ]
  },
  {
   "cell_type": "code",
   "execution_count": 4,
   "metadata": {
    "collapsed": false
   },
   "outputs": [
    {
     "name": "stdout",
     "output_type": "stream",
     "text": [
      "items: {'Chocolate': 3, 'Candy': 4}, subtotal : 0.0\n",
      "items: {'Chocolate': 2, 'Candy': 4}, subtotal : 0.0\n"
     ]
    }
   ],
   "source": [
    "### Question 2\n",
    "#Q2: write a simple shopping cart class -- this will hold items that you intend to purchase as well as the amount, etc. And allow you to add / remove items, get a subtotal, etc.\n",
    "#We'll use two classes: Item will be a single item and ShoppingCart will be the collection of items you wish to purchase.\n",
    "\n",
    "class Cart(object):\n",
    "    item = {}\n",
    "    subtotal = 0.0 \n",
    "    \n",
    "    def __init__(self, subtotal =0.0):\n",
    "        self.subtotal = subtotal\n",
    "    \n",
    "    def check(self):\n",
    "        print(\"items: {}, subtotal : {}\" .format(self.item, self.subtotal))\n",
    "        \n",
    "        \n",
    "class Item(Cart):\n",
    "    Name = \"\"\n",
    "    Price = 0.0\n",
    "    amount = 0\n",
    "    \n",
    "    def __init__(self, name, price):\n",
    "        self.Name = name\n",
    "        self.Price = price\n",
    "#       self.amount = 0\n",
    "        \n",
    "    \n",
    "    def add(self, num =1):\n",
    "        self.amount += num\n",
    "        Cart.item.update({self.Name: self.amount})\n",
    "        Cart.subtotal += self.Price * self.amount\n",
    "\n",
    "    def remove(self, num =1):\n",
    "        self.amount -= num\n",
    "#        for key in Cart.item.keys():\n",
    "#            if key == self.Name:\n",
    "#                Cart.item[key] = self.amount\n",
    "        Cart.item.update({self.Name: self.amount})\n",
    "        Cart.subtotal -= self.Price * num\n",
    "\n",
    "        \n",
    "candy = Item(\"Candy\", 1.00)\n",
    "chocolate = Item(\"Chocolate\", 5.00)\n",
    "cart = Cart()\n",
    "\n",
    "candy.add(4)\n",
    "chocolate.add(3)\n",
    "cart.check()\n",
    "chocolate.remove(1)\n",
    "cart.check()"
   ]
  },
  {
   "cell_type": "code",
   "execution_count": null,
   "metadata": {
    "collapsed": false
   },
   "outputs": [
    {
     "name": "stdout",
     "output_type": "stream",
     "text": [
      "Player 1 turn:\n"
     ]
    }
   ],
   "source": [
    "###Q3: Revisit the tic-tac-toe game you developed in the functions exercises \n",
    "## but now write it as a class with methods to do each of the main steps.\n",
    "\n",
    "class TicTacToe(object):\n",
    "    matrix = 9*[' ']\n",
    "    turn = 0\n",
    "    win = False\n",
    "\n",
    "    def __init__(self):\n",
    "        self.play()\n",
    "    \n",
    "    def player1(self):\n",
    "        print(\"Player 1 turn:\")\n",
    "        place = int(input())\n",
    "        return place -1\n",
    "\n",
    "\n",
    "    def player2(self):\n",
    "        print(\"Player 2 turn:\")\n",
    "        place = int(input())\n",
    "        return place -1\n",
    "    \n",
    "#def check():\n",
    "#    global matrix\n",
    "#    global win\n",
    "#    for x in range (0, 3) :\n",
    "#        y = x * 3\n",
    "#        if (matrix[y] == matrix[(y + 1)] and matrix[y] == matrix[(y + 2)]) :\n",
    "#            win = True\n",
    "#        if (matrix[x] == matrix[(x + 3)] and matrix[x] == matrix[(x + 6)]) :\n",
    "#            win = True\n",
    "#        if ((matrix[0] == matrix[4] and matrix[0] == matrix[8]) or \n",
    "#       (matrix[2] == matrix[4] and matrix[4] == matrix[6])) :\n",
    "#            win =  True\n",
    "            \n",
    "   \n",
    "    \n",
    "\n",
    "    def printMatrix(self):\n",
    "        print( '\\n ----------- ')\n",
    "        print( '| ' + self.matrix[0] + ' | ' + self.matrix[1] + ' | ' + self.matrix[2] + ' |')\n",
    "        print( ' ----------- ')\n",
    "        print( '| ' + self.matrix[3] + ' | ' + self.matrix[4] + ' | ' + self.matrix[5] + ' |')\n",
    "        print( ' ----------- ')\n",
    "        print( '| ' + self.matrix[6] + ' | ' + self.matrix[7] + ' | ' + self.matrix[8] + ' |')\n",
    "        print( ' ----------- \\n')\n",
    "        \n",
    "        \n",
    "    def play(self):\n",
    "        while self.win is False:\n",
    "            if (self.turn < 9) and (self.win is False):\n",
    "                self.turn += 1\n",
    "                Xplace = self.player1()\n",
    "\n",
    "                if self.matrix[Xplace] == ' ' :\n",
    "                    self.matrix[Xplace] = 'X'\n",
    "                else:\n",
    "                    print(\"Place already taken !\")\n",
    "                    Xplace = self.player1()\n",
    "                    self.matrix[Xplace] = 'X'\n",
    "\n",
    "                self.printMatrix()\n",
    "                #check\n",
    "                for x in range (0, 3) :\n",
    "                    y = x * 3\n",
    "                    if (self.matrix[y] == self.matrix[(y + 1)] and self.matrix[y] == self.matrix[(y + 2)] and self.matrix[y] != ' ') :\n",
    "                        self.win = True\n",
    "                    if (self.matrix[x] == self.matrix[(x + 3)] and self.matrix[x] == self.matrix[(x + 6)] and self.matrix[x] != ' ') :\n",
    "                        self.win = True\n",
    "                    if ((self.matrix[0] == self.matrix[4] and self.matrix[0] == self.matrix[8] and self.matrix[0] != ' ') or \n",
    "                   (self.matrix[2] == self.matrix[4] and self.matrix[4] == self.matrix[6] and self.matrix[2] != ' ')) :\n",
    "                        self.win =  True\n",
    "                if self.win is True:\n",
    "                    print(\"Winner: Player 1\")\n",
    "\n",
    "            if (self.turn < 9) and (self.win is False):\n",
    "                self.turn += 1\n",
    "                Oplace = self.player2()\n",
    "\n",
    "                if self.matrix[Oplace] == ' ' :\n",
    "                    self.matrix[Oplace] = 'O'\n",
    "                else:\n",
    "                    print(\"Place already taken !\")\n",
    "                    Oplace = player2()\n",
    "                    self.matrix[Oplace] = 'O'\n",
    "\n",
    "                self.printMatrix()\n",
    "                #check\n",
    "                for x in range (0, 3) :\n",
    "                    y = x * 3\n",
    "                    if (self.matrix[y] == self.matrix[(y + 1)] and self.matrix[y] == self.matrix[(y + 2)] and self.matrix[y] != ' ') :\n",
    "                        self.win = True\n",
    "                    if (self.matrix[x] == self.matrix[(x + 3)] and self.matrix[x] == self.matrix[(x + 6)] and self.matrix[x] != ' ') :\n",
    "                        self.win = True\n",
    "                    if ((self.matrix[0] == self.matrix[4] and self.matrix[0] == self.matrix[8] and self.matrix[0] != ' ') or \n",
    "                   (self.matrix[2] == self.matrix[4] and self.matrix[4] == self.matrix[6] and self.matrix[2] != ' ')) :\n",
    "                        self.win =  True\n",
    "                if self.win is True:\n",
    "                    print(\"Winner: Player 2\")\n",
    "\n",
    "game = TicTacToe()"
   ]
  },
  {
   "cell_type": "code",
   "execution_count": null,
   "metadata": {
    "collapsed": true
   },
   "outputs": [],
   "source": []
  }
 ],
 "metadata": {
  "anaconda-cloud": {},
  "kernelspec": {
   "display_name": "Python [default]",
   "language": "python",
   "name": "python3"
  },
  "language_info": {
   "codemirror_mode": {
    "name": "ipython",
    "version": 3
   },
   "file_extension": ".py",
   "mimetype": "text/x-python",
   "name": "python",
   "nbconvert_exporter": "python",
   "pygments_lexer": "ipython3",
   "version": "3.5.2"
  }
 },
 "nbformat": 4,
 "nbformat_minor": 2
}
