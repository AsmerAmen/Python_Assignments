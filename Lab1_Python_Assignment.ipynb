{
 "cells": [
  {
   "cell_type": "code",
   "execution_count": 1,
   "metadata": {
    "collapsed": true
   },
   "outputs": [],
   "source": [
    "from IPython.display import display_pretty, display_html, display_jpeg, display_png, display_json, display_latex, display_svg"
   ]
  },
  {
   "cell_type": "markdown",
   "metadata": {},
   "source": [
    "# Lab 1 Python Assignment"
   ]
  },
  {
   "cell_type": "markdown",
   "metadata": {},
   "source": [
    "### Problem 1:\n",
    "Write a program to find the number of weeks and days in a trip\n",
    "Ex. if the trip is 10 days => weeks = 1 and days = 2"
   ]
  },
  {
   "cell_type": "code",
   "execution_count": null,
   "metadata": {
    "collapsed": false
   },
   "outputs": [],
   "source": [
    "print(\"Enter number of days\")\n",
    "tripDays= int(input())\n",
    "\n",
    "weeks = tripDays // 7\n",
    "days = tripDays % 7\n",
    "\n",
    "print(\"trip is\" , tripDays , \"days => weeks =\" , weeks , \"and days =\" , days)"
   ]
  },
  {
   "cell_type": "markdown",
   "metadata": {},
   "source": [
    "### Problem 2:\n",
    "Write a code to initialize an array with the values of an array for the values from 0 to 10 with the following function $$x^3+x^2-5$$"
   ]
  },
  {
   "cell_type": "code",
   "execution_count": 10,
   "metadata": {
    "collapsed": false
   },
   "outputs": [
    {
     "name": "stdout",
     "output_type": "stream",
     "text": [
      "[(0, -5), (1, -3), (2, 7), (3, 31), (4, 75), (5, 145), (6, 247), (7, 387), (8, 571), (9, 805)]\n",
      "[-5, -3, 7, 31, 75, 145, 247, 387, 571, 805]\n"
     ]
    }
   ],
   "source": [
    "values = [(x,x**3 + x**2 - 5) for x in range(10)]\n",
    "print(values)\n",
    "\n",
    "values = [(x**3 + x**2 - 5) for x in range(10)]\n",
    "print(values)"
   ]
  },
  {
   "cell_type": "markdown",
   "metadata": {},
   "source": [
    "### Problem 3:\n",
    "Find all the even letters in \"Hello Python, Welcome !!!\" and print them in reverse order."
   ]
  },
  {
   "cell_type": "code",
   "execution_count": 12,
   "metadata": {
    "collapsed": false
   },
   "outputs": [
    {
     "name": "stdout",
     "output_type": "stream",
     "text": [
      "!!eolW,otPolH\n"
     ]
    }
   ],
   "source": [
    "str = \"Hello Python, Welcome !!!\"\n",
    "str = str[::-2]\n",
    "print(str)"
   ]
  },
  {
   "cell_type": "markdown",
   "metadata": {},
   "source": [
    "### Problem 4\n",
    "For the following string \"Welcome to the world of python\" compute the length, count of letter 'o' occurences, the index of the first occurence of the word Python."
   ]
  },
  {
   "cell_type": "code",
   "execution_count": 24,
   "metadata": {
    "collapsed": false
   },
   "outputs": [
    {
     "name": "stdout",
     "output_type": "stream",
     "text": [
      "30\n",
      "5\n",
      "25\n"
     ]
    }
   ],
   "source": [
    "Str = \"Welcome to the world of python\"\n",
    "\n",
    "print(len(Str))\n",
    "\n",
    "print(Str.count('o'))\n",
    "\n",
    "print(Str.find(\"python\")+1)\n",
    "\n",
    "\n"
   ]
  },
  {
   "cell_type": "markdown",
   "metadata": {},
   "source": [
    "### Problem 5\n",
    "- print the first 4 letters of long_word\n",
    "- print the first 4 letters of long_word in reverse\n",
    "- print the last 4 letters of long_word in reverse\n",
    "- print the letters spanning indexes 3 to 6 of long_word in Reverse\n",
    "long_word = \"timeline\""
   ]
  },
  {
   "cell_type": "code",
   "execution_count": 7,
   "metadata": {
    "collapsed": false
   },
   "outputs": [
    {
     "name": "stdout",
     "output_type": "stream",
     "text": [
      "time\n",
      "emit\n",
      "enil\n",
      "nile\n"
     ]
    }
   ],
   "source": [
    "word = \"timeline\"\n",
    "print(word[:4])\n",
    "print(word[3::-1])\n",
    "print(word[:3:-1])\n",
    "print(word[6:2:-1])"
   ]
  },
  {
   "cell_type": "markdown",
   "metadata": {},
   "source": []
  },
  {
   "cell_type": "markdown",
   "metadata": {},
   "source": [
    "### Problem 6\n",
    "Create a list, streets, that lists the name of 5 street name strings\n",
    "\n",
    "Print a message that there is \"No Parking\" on index 0 or index 4 streets"
   ]
  },
  {
   "cell_type": "code",
   "execution_count": 35,
   "metadata": {
    "collapsed": false
   },
   "outputs": [
    {
     "name": "stdout",
     "output_type": "stream",
     "text": [
      "['Tharwat St', 'Talaat Harb St', 'El Gomhorya St', 'Fiessel St', 'Haram St']\n",
      "0\n",
      "No Parking\n"
     ]
    }
   ],
   "source": [
    "streets = [\"Tharwat St\", \"Talaat Harb St\", \"El Gomhorya St\", \"Fiessel St\", \"Haram St\"]\n",
    "print(streets)\n",
    "check = int(input())\n",
    "if(check ==0 or check == 4):\n",
    "    print(\"No Parking\")\n",
    "else:\n",
    "    print(\"Parking Available\")"
   ]
  },
  {
   "cell_type": "markdown",
   "metadata": {},
   "source": [
    "### Problem 7\n",
    "Read an elements from the user and print thier max, min, and average don't use external library"
   ]
  },
  {
   "cell_type": "code",
   "execution_count": 1,
   "metadata": {
    "collapsed": false,
    "scrolled": true
   },
   "outputs": [
    {
     "name": "stdout",
     "output_type": "stream",
     "text": [
      "1\n",
      "2\n",
      "3\n",
      "4\n",
      "5\n",
      "6\n",
      "max = 6 min = 1 average = 3.5\n"
     ]
    }
   ],
   "source": [
    "element = [0]*6\n",
    "for x in range (6):\n",
    "    element[x] = int(input())\n",
    "    \n",
    "maximum = element[0]\n",
    "minimum = element[0]\n",
    "tot = 0\n",
    "for i in range(6):\n",
    "    tot = tot + element[i]\n",
    "    if element[i] > maximum:\n",
    "        maximum = element[i]\n",
    "    if element[i] < minimum:\n",
    "        minimum = element[i]\n",
    "\n",
    "avg = tot /6\n",
    "\n",
    "print(\"max =\",maximum, \"min =\", minimum, \"average =\", avg)\n"
   ]
  },
  {
   "cell_type": "markdown",
   "metadata": {},
   "source": [
    "### Problem 8\n",
    "Write a program to sort an array (use bubble sort)"
   ]
  },
  {
   "cell_type": "code",
   "execution_count": 10,
   "metadata": {
    "collapsed": false
   },
   "outputs": [
    {
     "name": "stdout",
     "output_type": "stream",
     "text": [
      "[5, 10, 23, 34, 43, 56]\n"
     ]
    }
   ],
   "source": [
    "arr = [10, 5, 23, 56, 34, 43]\n",
    "\n",
    "for i in range (6):\n",
    "    for j in range(i):\n",
    "        if(arr[j] > arr[j+1]):\n",
    "            temp = arr[j]\n",
    "            arr[j] = arr[j+1]\n",
    "            arr[j+1] = temp\n",
    "            \n",
    "print(arr)\n",
    "    "
   ]
  },
  {
   "cell_type": "markdown",
   "metadata": {},
   "source": [
    "### Problem 9\n",
    "Write a program to print the first 25 number of fabbonanci series\n"
   ]
  },
  {
   "cell_type": "code",
   "execution_count": 3,
   "metadata": {
    "collapsed": false
   },
   "outputs": [
    {
     "name": "stdout",
     "output_type": "stream",
     "text": [
      "1\n",
      "1\n",
      "2\n",
      "3\n",
      "5\n",
      "8\n",
      "13\n",
      "21\n",
      "34\n",
      "55\n",
      "89\n",
      "144\n",
      "233\n",
      "377\n",
      "610\n",
      "987\n",
      "1597\n",
      "2584\n",
      "4181\n",
      "6765\n",
      "10946\n",
      "17711\n",
      "28657\n",
      "46368\n",
      "75025\n",
      "121393\n"
     ]
    }
   ],
   "source": [
    "prevFabon = 1\n",
    "fabon = 1\n",
    "print(fabon)\n",
    "for x in range (25):\n",
    "    temp = fabon\n",
    "    print(fabon)\n",
    "    fabon += prevFabon\n",
    "    prevFabon = temp\n",
    "    "
   ]
  },
  {
   "cell_type": "markdown",
   "metadata": {},
   "source": [
    "### Problem 10\n",
    "Write a program that generates a random number between 1 and 100 and asks the user to guess it. It will tell the user if the number is higher or lower after each guess and keep track of the number of guesses."
   ]
  },
  {
   "cell_type": "code",
   "execution_count": 1,
   "metadata": {
    "collapsed": false
   },
   "outputs": [
    {
     "name": "stdout",
     "output_type": "stream",
     "text": [
      "Guess the number: \n",
      "3\n",
      "It's higher, try again\n",
      "5\n",
      "It's lower, try again\n",
      "4\n",
      "Right! it is: 4 You tried 3 times.\n"
     ]
    }
   ],
   "source": [
    "import random\n",
    "magic = random.randint(1,100)\n",
    "count = 0\n",
    "print(\"Guess the number: \")\n",
    "guess = int(input())\n",
    "count = count +1\n",
    "while guess != magic:\n",
    "    if guess > magic:\n",
    "        count = count + 1\n",
    "        print(\"It's lower, try again\")\n",
    "    else:\n",
    "        count = count + 1\n",
    "        print(\"It's higher, try again\")\n",
    "    guess = int(input())\n",
    "\n",
    "if guess == magic:\n",
    "    print(\"Right! it is:\",magic, \"You tried\",count,\"times.\")"
   ]
  },
  {
   "cell_type": "code",
   "execution_count": null,
   "metadata": {
    "collapsed": true
   },
   "outputs": [],
   "source": []
  },
  {
   "cell_type": "code",
   "execution_count": null,
   "metadata": {
    "collapsed": true
   },
   "outputs": [],
   "source": []
  },
  {
   "cell_type": "code",
   "execution_count": null,
   "metadata": {
    "collapsed": true
   },
   "outputs": [],
   "source": []
  }
 ],
 "metadata": {
  "anaconda-cloud": {},
  "kernelspec": {
   "display_name": "Python [default]",
   "language": "python",
   "name": "python3"
  },
  "language_info": {
   "codemirror_mode": {
    "name": "ipython",
    "version": 3
   },
   "file_extension": ".py",
   "mimetype": "text/x-python",
   "name": "python",
   "nbconvert_exporter": "python",
   "pygments_lexer": "ipython3",
   "version": "3.5.2"
  }
 },
 "nbformat": 4,
 "nbformat_minor": 2
}
